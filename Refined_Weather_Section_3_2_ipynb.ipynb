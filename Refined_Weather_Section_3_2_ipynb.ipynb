{
  "nbformat": 4,
  "nbformat_minor": 0,
  "metadata": {
    "colab": {
      "private_outputs": true,
      "provenance": []
    },
    "kernelspec": {
      "name": "python3",
      "display_name": "Python 3"
    },
    "language_info": {
      "name": "python"
    }
  },
  "cells": [
    {
      "cell_type": "code",
      "source": [
        "# Section 3.2 - Refined Weather API Function\n",
        "# Course constraint: Week 8 (Basic try/except API handling) + Week 6 (Simple validation)\n",
        "\n",
        "def refined_safe_weather_data_fetch(city):\n",
        "    \"\"\"\n",
        "    Fetch weather data with basic error handling - Week 8 style\n",
        "\n",
        "    >>> refined_safe_weather_data_fetch(\"\")\n",
        "    Error: City name cannot be empty\n",
        "    >>> refined_safe_weather_data_fetch(\"InvalidCity123\")  # doctest: +SKIP\n",
        "    Error: Could not connect to weather service\n",
        "    \"\"\"\n",
        "    # Step 1: Input validation - Week 6 concept\n",
        "    if not city:\n",
        "        print(\"Error: City name cannot be empty\")\n",
        "        return None\n",
        "\n",
        "    try:\n",
        "        import requests\n",
        "        url = f\"http://wttr.in/{city}?format=j1\"\n",
        "        response = requests.get(url)\n",
        "        data = response.json()\n",
        "\n",
        "        # Step 2: Extract basic fields (Week 8 example logic)\n",
        "        current = data['current_condition'][0]\n",
        "        weather_info = {\n",
        "            'city': city,\n",
        "            'temperature': current['temp_C'],\n",
        "            'wind_speed': current['windspeedKmph'],\n",
        "            'description': current['weatherDesc'][0]['value']\n",
        "        }\n",
        "\n",
        "        return weather_info\n",
        "\n",
        "    except:\n",
        "        print(\"Error: Could not connect to weather service\")\n",
        "        return None\n",
        "\n",
        "# Optional test (interactive, not doctest)\n",
        "print(refined_safe_weather_data_fetch(\"London\"))  # Expected: Dictionary with temp, wind_speed, etc.\n"
      ],
      "metadata": {
        "id": "YCMCa1-28v5T"
      },
      "execution_count": null,
      "outputs": []
    }
  ]
}